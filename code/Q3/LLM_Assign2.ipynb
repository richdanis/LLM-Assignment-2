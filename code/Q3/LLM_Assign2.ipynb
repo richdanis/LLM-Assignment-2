{
  "cells": [
    {
      "attachments": {},
      "cell_type": "markdown",
      "metadata": {
        "id": "PVF_vj2LlzLK"
      },
      "source": [
        "**Assignment 2 - Question 3**\n",
        "- Provide the answers in the provided cell. "
      ]
    },
    {
      "cell_type": "code",
      "execution_count": null,
      "metadata": {
        "id": "eD0HXHHWBCuB"
      },
      "outputs": [],
      "source": [
        "# Install some dependencies. We will use transformers and datasets package from Huggingface for our experiments. Uncomment the line below to install the dependencies. \n",
        "# !pip install transformers datasets sentencepiece"
      ]
    },
    {
      "cell_type": "code",
      "execution_count": null,
      "metadata": {
        "colab": {
          "base_uri": "https://localhost:8080/",
          "height": 87,
          "referenced_widgets": [
            "47e5c932376742b4abd627bc48cc2387",
            "c78c31b2a2c547ecad15dd1c3ee995fc",
            "3c688b8fe7bf47deb1e86f44506c5bf5",
            "6e22d16d388e48fcbdcf7cce922f7740",
            "e5cbc647d9ee4b778ff1e9d77639d529",
            "4493e9ce56594322babeeaa8b6e0a1e9",
            "f04026c98d5b45a49f747868390dcd48",
            "89f37812ead046398b8f89da188ef0a7",
            "499bc31d95154b04bf5ee1df69bd7d6a",
            "9fd72c2fb3d2497689596146ecec13fb",
            "2118467821e040fbab5f24fb6adf4ee1"
          ]
        },
        "id": "i-ZPqB3NlVDb",
        "outputId": "cae7d2f1-fec2-455e-c6d4-b4c21c821a02"
      },
      "outputs": [
        {
          "name": "stderr",
          "output_type": "stream",
          "text": [
            "WARNING:datasets.builder:Found cached dataset gsm8k (/root/.cache/huggingface/datasets/gsm8k/main/1.1.0/37bfb08b1d4fcbb01f06b03d9e1ef5f1fcbd4d3af3d08842c50d7305091285ba)\n"
          ]
        },
        {
          "data": {
            "application/vnd.jupyter.widget-view+json": {
              "model_id": "47e5c932376742b4abd627bc48cc2387",
              "version_major": 2,
              "version_minor": 0
            },
            "text/plain": [
              "  0%|          | 0/2 [00:00<?, ?it/s]"
            ]
          },
          "metadata": {},
          "output_type": "display_data"
        }
      ],
      "source": [
        "# Load the GSM8K dataset. There are two versions: main and Socratic. We are currently interested in main but later on we can explore socratic version. Just pass the name in the command below to load them. \n",
        "from datasets import load_dataset\n",
        "dataset = load_dataset(\"gsm8k\", \"main\")"
      ]
    },
    {
      "cell_type": "code",
      "execution_count": null,
      "metadata": {
        "id": "F9IQYbA2lb24"
      },
      "outputs": [],
      "source": [
        "# We test on 100 samples only for all the experiments\n",
        "test_samples = dataset[\"test\"][:100]"
      ]
    },
    {
      "cell_type": "code",
      "execution_count": null,
      "metadata": {
        "colab": {
          "base_uri": "https://localhost:8080/"
        },
        "id": "8paCqHmmlsqL",
        "outputId": "8fde9bf2-7065-4da1-90e1-ae2ce56df948"
      },
      "outputs": [
        {
          "name": "stdout",
          "output_type": "stream",
          "text": [
            "Ques: Janet’s ducks lay 16 eggs per day. She eats three for breakfast every morning and bakes muffins for her friends every day with four. She sells the remainder at the farmers' market daily for $2 per fresh duck egg. How much in dollars does she make every day at the farmers' market?\n",
            "Solution: Janet sells 16 - 3 - 4 = <<16-3-4=9>>9 duck eggs a day.\n",
            "She makes 9 * 2 = $<<9*2=18>>18 every day at the farmer’s market.\n",
            "#### 18\n"
          ]
        }
      ],
      "source": [
        "# Printing a sample from the dataset\n",
        "# The dataset is a Math Word Problem in the following format. \"Ques\" represents the main problem and \"Solution\" contains the step by step solution. The final answer appears after \"####\"\n",
        "sample_ques = test_samples[\"question\"][0]\n",
        "print (f\"Ques: {sample_ques}\\nSolution: {test_samples['answer'][0]}\")"
      ]
    },
    {
      "attachments": {},
      "cell_type": "markdown",
      "metadata": {
        "id": "QV0ZtlthmTRx"
      },
      "source": [
        "**Ques 1**: We have training dataset available for GSM8K (\"train\" parameter in dataset) and we start by training an LLM. We use T5 models for all our experiments (T5 and Flan versions). For training, we use T5-small and train it on GSM8K dataset and report the accuracy on the test set as created above. \n",
        "- For training and testing, use the train and test scripts provided in the GitHub (https://github.com/openai/grade-school-math/tree/master/grade_school_math). \n",
        "- Make sure to replace the GPT2 tokenizer and model with T5-small from Huggingface (also provided below). \n",
        "- For testing run sample.py file for all the 100 samples from the test set (from above). No need to modify the calculator code and keep using one. \n",
        "- Finally, report the accuracy of the model on the 100 test samples created above.\n",
        "\n",
        "NOTE: No need to submit the train and sample code. Only the results are enough. The results are expected in .ccsv format with questions in one column and model output in the second column. Accuracy is calculated based on the final answer only (the one after ####)."
      ]
    },
    {
      "attachments": {},
      "cell_type": "markdown",
      "metadata": {
        "id": "2_RcNnNNziPq"
      },
      "source": [
        "**Answer 1**:"
      ]
    },
    {
      "cell_type": "code",
      "execution_count": null,
      "metadata": {
        "colab": {
          "base_uri": "https://localhost:8080/"
        },
        "id": "xrBRvFuemH50",
        "outputId": "c236c35e-0564-4d0a-960a-a02054182a7d"
      },
      "outputs": [
        {
          "name": "stdout",
          "output_type": "stream",
          "text": [
            "and bakes muffins for her friends every day with four. Janet’s ducks lay 16 eggs per day. Janet’s ducks lay 16 eggs per day. Janet sells the remainder at the farmers' market daily for $2 per fresh duck egg.\n"
          ]
        }
      ],
      "source": [
        "#Loading T5 model and analyzing the output out of the box\n",
        "from transformers import AutoTokenizer, T5ForConditionalGeneration\n",
        "\n",
        "#Load the tokenizer and the model\n",
        "tokenizer = AutoTokenizer.from_pretrained(\"t5-small\", model_max_length=512)\n",
        "model = T5ForConditionalGeneration.from_pretrained(\"t5-small\")\n",
        "\n",
        "# lets create an input for the model. Here we are testing with one example question out of the box. \n",
        "input_sample = sample_ques\n",
        "\n",
        "# Pass the sample to the model and print the decoded output\n",
        "input_ids = tokenizer(input_sample, return_tensors=\"pt\").input_ids\n",
        "outputs = model.generate(input_ids, max_new_tokens=256)\n",
        "print(tokenizer.decode(outputs[0], skip_special_tokens=True))"
      ]
    },
    {
      "cell_type": "code",
      "execution_count": null,
      "metadata": {},
      "outputs": [],
      "source": [
        "from train import train\n",
        "train(\"t5-small\", num_epochs=20)"
      ]
    },
    {
      "attachments": {},
      "cell_type": "markdown",
      "metadata": {
        "id": "pn818by3pcB4"
      },
      "source": [
        "**Ques 2:** Finetuning works well for cases when training data is available. But for cases when there is no training data available, we can first test how the pre-trained models work out of the box in a zero-shot setting. \n",
        "- Load versions of T5 models [small, base, and large] from [HuggingFace repo](https://huggingface.co/docs/transformers/model_doc/t5) as demonstrated in the example above and run the inference for entire test set of 100 examples. Calculate the accuracy on the test samples and plot a chart demonstrating how the accuracy scales with model sizes.\n",
        "NOTE: Template to plot the graph in bar chart format is provided at the end of the document. "
      ]
    },
    {
      "attachments": {},
      "cell_type": "markdown",
      "metadata": {
        "id": "pATfbRvqznsw"
      },
      "source": [
        "**Answer 2**:"
      ]
    },
    {
      "cell_type": "code",
      "execution_count": null,
      "metadata": {
        "colab": {
          "base_uri": "https://localhost:8080/"
        },
        "id": "chW-z61dmghj",
        "outputId": "95721058-7be4-4d5e-a4c1-a702dc3ae039"
      },
      "outputs": [
        {
          "name": "stdout",
          "output_type": "stream",
          "text": [
            "[\"She sells the remainder at the farmers' market for $2 per fresh duck egg, so she makes 16 * 2 = $120 per duck egg. She makes $2 per duck egg for her friends every day, so she makes 16 * 2 = $120 per duck egg. She makes $2 per duck egg for her friends every day, so she makes $120 * 2 = $120 per duck egg. She makes $2 per duck egg for her friends every day, so she makes $120 * 2 = $120 per duck egg. She makes $2 per duck egg for her friends every day, so she makes $120 * 2 = $120 per duck egg. She makes $120 * 2 = $120 per duck egg. She makes $120 * 2 = $120 per duck egg. She makes $120 * 2 = $120 per duck egg. She makes $120 * 2 = $120 per duck egg. She makes $120 * 2 = $120 per duck egg. She makes $120 * 2 = $120 per duck egg. She makes $120 * 2 = $120 per duck egg. She makes $120 * 2 = $120 per duck egg. She makes $120 * 2 = $120 per duck egg. She makes $120 * 2\"]\n"
          ]
        }
      ],
      "source": [
        "#Loading Flan-T5 model and analyzing the output out of the box\n",
        "from transformers import AutoModelForSeq2SeqLM, AutoTokenizer\n",
        "\n",
        "# Add the model and the tokenizer here\n",
        "\n",
        "# Modify the input sample\n",
        "\n",
        "inputs = tokenizer(input_sample, return_tensors=\"pt\")\n",
        "outputs = model.generate(**inputs, max_new_tokens=256)\n",
        "print(tokenizer.batch_decode(outputs, skip_special_tokens=True))"
      ]
    },
    {
      "attachments": {},
      "cell_type": "markdown",
      "metadata": {
        "id": "6Y_gpZRoxWtl"
      },
      "source": [
        "**Ques 3**: Without specifying what the model should do for a given problem, the model might feel that the task is a typical sentence completion task which might not be desirable for a question-answering task or machine translation task. *Instruction tuning* is an idea to train these LLMs with instructions for each task which if provided during test time, can assist the model to decide how to approach the task. \n",
        "- Now repeat the same experiments with Flan T5 models [small, base, and large] (an instruction tuned version of T5) and plot a chart comparing it with the T5 models in the same last plot:\n",
        "   - without changing the input style and\n",
        "   - with adding instruction for each input example (Refer to [FlanT5 paper](https://arxiv.org/pdf/2210.11416.pdf) and figure out the instruction that can prove useful for answering GSM8K dataset).\n",
        "   \n",
        "   NOTE that all you need is to load the tokenizer and the model in the above code, and provide the input sample in the desired format. Also, the instructions are task specific meaning a common instruction in the input sample will work for all the examples. No need to write different instructions for each example. "
      ]
    },
    {
      "attachments": {},
      "cell_type": "markdown",
      "metadata": {
        "id": "FcSRfCX6zpYW"
      },
      "source": [
        "**Answer 3**:"
      ]
    },
    {
      "attachments": {},
      "cell_type": "markdown",
      "metadata": {
        "id": "MoPMrt6PL_1y"
      },
      "source": [
        "**Ques 4**: Often zero shot inference capabilities can be improved by providing some incontext examples to the model (not true for all cases though). For FlanT5 large model, provide 2-3 incontext examples (should be other than the 100 testing samples) and analyze the performance of the models as following:\n",
        "\n",
        "   * Only provide the final answer (In the example sample above, it will be \"The answer is 18\").\n",
        "   * Replace the final answer only to a step by step explaination also refer to chain of thought reasoning (refer to Figure 11 in the [Flan paper](https://arxiv.org/pdf/2210.11416.pdf) in the Appendix).\n",
        "   * Plot the approaches along with the other two results for FlanT5 model from part 2. \n",
        "\n",
        "   NOTE: The in-context examples should be appended to the provided input in the input sample."
      ]
    },
    {
      "attachments": {},
      "cell_type": "markdown",
      "metadata": {
        "id": "zY1BYdCkzq6r"
      },
      "source": [
        "**Answer 4**:"
      ]
    },
    {
      "attachments": {},
      "cell_type": "markdown",
      "metadata": {
        "id": "DeQw9HX1ytdA"
      },
      "source": [
        "**BONUS Ques**: Can you come up with another style of step by step reasoning prompts that can prove useful (HINT: check the Socratic version of the dataset.). Test your hypothesis with the same FlanT5 model as above and see the difference.  "
      ]
    },
    {
      "attachments": {},
      "cell_type": "markdown",
      "metadata": {
        "id": "efBd9CtzzsYv"
      },
      "source": [
        "**BONUS**:"
      ]
    },
    {
      "cell_type": "code",
      "execution_count": null,
      "metadata": {
        "colab": {
          "base_uri": "https://localhost:8080/",
          "height": 452
        },
        "id": "QLfiLbu0BL4e",
        "outputId": "fce1b063-f275-4873-a632-693d2ebefd41"
      },
      "outputs": [
        {
          "data": {
            "image/png": "[encoded data removed]",
            "text/plain": [
              "<Figure size 640x480 with 1 Axes>"
            ]
          },
          "metadata": {},
          "output_type": "display_data"
        }
      ],
      "source": [
        "# Template to plot graphs. \n",
        "import matplotlib.pyplot as plt\n",
        "\n",
        "# Sample data\n",
        "categories = ['Category1', 'Category2']\n",
        "values = [20, 35]\n",
        "\n",
        "# Create a figure and a set of subplots\n",
        "fig, ax = plt.subplots()\n",
        "\n",
        "# Plot data\n",
        "ax.bar(categories, values, color=['blue', 'red'])\n",
        "\n",
        "# Set the y axis label\n",
        "ax.set_ylabel('Values')\n",
        "\n",
        "# Set the chart's title\n",
        "ax.set_title('Bar Chart')\n",
        "\n",
        "plt.show()"
      ]
    },
    {
      "cell_type": "code",
      "execution_count": null,
      "metadata": {
        "id": "FLLEcFh9BMa6"
      },
      "outputs": [],
      "source": []
    }
  ],
  "metadata": {
    "colab": {
      "provenance": []
    },
    "kernelspec": {
      "display_name": "Python 3",
      "name": "python3"
    },
    "language_info": {
      "name": "python",
      "version": "3.9.11"
    },
    "widgets": {
      "application/vnd.jupyter.widget-state+json": {
        "2118467821e040fbab5f24fb6adf4ee1": {
          "model_module": "@jupyter-widgets/controls",
          "model_module_version": "1.5.0",
          "model_name": "DescriptionStyleModel",
          "state": {
            "_model_module": "@jupyter-widgets/controls",
            "_model_module_version": "1.5.0",
            "_model_name": "DescriptionStyleModel",
            "_view_count": null,
            "_view_module": "@jupyter-widgets/base",
            "_view_module_version": "1.2.0",
            "_view_name": "StyleView",
            "description_width": ""
          }
        },
        "3c688b8fe7bf47deb1e86f44506c5bf5": {
          "model_module": "@jupyter-widgets/controls",
          "model_module_version": "1.5.0",
          "model_name": "FloatProgressModel",
          "state": {
            "_dom_classes": [],
            "_model_module": "@jupyter-widgets/controls",
            "_model_module_version": "1.5.0",
            "_model_name": "FloatProgressModel",
            "_view_count": null,
            "_view_module": "@jupyter-widgets/controls",
            "_view_module_version": "1.5.0",
            "_view_name": "ProgressView",
            "bar_style": "success",
            "description": "",
            "description_tooltip": null,
            "layout": "IPY_MODEL_89f37812ead046398b8f89da188ef0a7",
            "max": 2,
            "min": 0,
            "orientation": "horizontal",
            "style": "IPY_MODEL_499bc31d95154b04bf5ee1df69bd7d6a",
            "value": 2
          }
        },
        "4493e9ce56594322babeeaa8b6e0a1e9": {
          "model_module": "@jupyter-widgets/base",
          "model_module_version": "1.2.0",
          "model_name": "LayoutModel",
          "state": {
            "_model_module": "@jupyter-widgets/base",
            "_model_module_version": "1.2.0",
            "_model_name": "LayoutModel",
            "_view_count": null,
            "_view_module": "@jupyter-widgets/base",
            "_view_module_version": "1.2.0",
            "_view_name": "LayoutView",
            "align_content": null,
            "align_items": null,
            "align_self": null,
            "border": null,
            "bottom": null,
            "display": null,
            "flex": null,
            "flex_flow": null,
            "grid_area": null,
            "grid_auto_columns": null,
            "grid_auto_flow": null,
            "grid_auto_rows": null,
            "grid_column": null,
            "grid_gap": null,
            "grid_row": null,
            "grid_template_areas": null,
            "grid_template_columns": null,
            "grid_template_rows": null,
            "height": null,
            "justify_content": null,
            "justify_items": null,
            "left": null,
            "margin": null,
            "max_height": null,
            "max_width": null,
            "min_height": null,
            "min_width": null,
            "object_fit": null,
            "object_position": null,
            "order": null,
            "overflow": null,
            "overflow_x": null,
            "overflow_y": null,
            "padding": null,
            "right": null,
            "top": null,
            "visibility": null,
            "width": null
          }
        },
        "47e5c932376742b4abd627bc48cc2387": {
          "model_module": "@jupyter-widgets/controls",
          "model_module_version": "1.5.0",
          "model_name": "HBoxModel",
          "state": {
            "_dom_classes": [],
            "_model_module": "@jupyter-widgets/controls",
            "_model_module_version": "1.5.0",
            "_model_name": "HBoxModel",
            "_view_count": null,
            "_view_module": "@jupyter-widgets/controls",
            "_view_module_version": "1.5.0",
            "_view_name": "HBoxView",
            "box_style": "",
            "children": [
              "IPY_MODEL_c78c31b2a2c547ecad15dd1c3ee995fc",
              "IPY_MODEL_3c688b8fe7bf47deb1e86f44506c5bf5",
              "IPY_MODEL_6e22d16d388e48fcbdcf7cce922f7740"
            ],
            "layout": "IPY_MODEL_e5cbc647d9ee4b778ff1e9d77639d529"
          }
        },
        "499bc31d95154b04bf5ee1df69bd7d6a": {
          "model_module": "@jupyter-widgets/controls",
          "model_module_version": "1.5.0",
          "model_name": "ProgressStyleModel",
          "state": {
            "_model_module": "@jupyter-widgets/controls",
            "_model_module_version": "1.5.0",
            "_model_name": "ProgressStyleModel",
            "_view_count": null,
            "_view_module": "@jupyter-widgets/base",
            "_view_module_version": "1.2.0",
            "_view_name": "StyleView",
            "bar_color": null,
            "description_width": ""
          }
        },
        "6e22d16d388e48fcbdcf7cce922f7740": {
          "model_module": "@jupyter-widgets/controls",
          "model_module_version": "1.5.0",
          "model_name": "HTMLModel",
          "state": {
            "_dom_classes": [],
            "_model_module": "@jupyter-widgets/controls",
            "_model_module_version": "1.5.0",
            "_model_name": "HTMLModel",
            "_view_count": null,
            "_view_module": "@jupyter-widgets/controls",
            "_view_module_version": "1.5.0",
            "_view_name": "HTMLView",
            "description": "",
            "description_tooltip": null,
            "layout": "IPY_MODEL_9fd72c2fb3d2497689596146ecec13fb",
            "placeholder": "​",
            "style": "IPY_MODEL_2118467821e040fbab5f24fb6adf4ee1",
            "value": " 2/2 [00:00&lt;00:00, 33.59it/s]"
          }
        },
        "89f37812ead046398b8f89da188ef0a7": {
          "model_module": "@jupyter-widgets/base",
          "model_module_version": "1.2.0",
          "model_name": "LayoutModel",
          "state": {
            "_model_module": "@jupyter-widgets/base",
            "_model_module_version": "1.2.0",
            "_model_name": "LayoutModel",
            "_view_count": null,
            "_view_module": "@jupyter-widgets/base",
            "_view_module_version": "1.2.0",
            "_view_name": "LayoutView",
            "align_content": null,
            "align_items": null,
            "align_self": null,
            "border": null,
            "bottom": null,
            "display": null,
            "flex": null,
            "flex_flow": null,
            "grid_area": null,
            "grid_auto_columns": null,
            "grid_auto_flow": null,
            "grid_auto_rows": null,
            "grid_column": null,
            "grid_gap": null,
            "grid_row": null,
            "grid_template_areas": null,
            "grid_template_columns": null,
            "grid_template_rows": null,
            "height": null,
            "justify_content": null,
            "justify_items": null,
            "left": null,
            "margin": null,
            "max_height": null,
            "max_width": null,
            "min_height": null,
            "min_width": null,
            "object_fit": null,
            "object_position": null,
            "order": null,
            "overflow": null,
            "overflow_x": null,
            "overflow_y": null,
            "padding": null,
            "right": null,
            "top": null,
            "visibility": null,
            "width": null
          }
        },
        "9fd72c2fb3d2497689596146ecec13fb": {
          "model_module": "@jupyter-widgets/base",
          "model_module_version": "1.2.0",
          "model_name": "LayoutModel",
          "state": {
            "_model_module": "@jupyter-widgets/base",
            "_model_module_version": "1.2.0",
            "_model_name": "LayoutModel",
            "_view_count": null,
            "_view_module": "@jupyter-widgets/base",
            "_view_module_version": "1.2.0",
            "_view_name": "LayoutView",
            "align_content": null,
            "align_items": null,
            "align_self": null,
            "border": null,
            "bottom": null,
            "display": null,
            "flex": null,
            "flex_flow": null,
            "grid_area": null,
            "grid_auto_columns": null,
            "grid_auto_flow": null,
            "grid_auto_rows": null,
            "grid_column": null,
            "grid_gap": null,
            "grid_row": null,
            "grid_template_areas": null,
            "grid_template_columns": null,
            "grid_template_rows": null,
            "height": null,
            "justify_content": null,
            "justify_items": null,
            "left": null,
            "margin": null,
            "max_height": null,
            "max_width": null,
            "min_height": null,
            "min_width": null,
            "object_fit": null,
            "object_position": null,
            "order": null,
            "overflow": null,
            "overflow_x": null,
            "overflow_y": null,
            "padding": null,
            "right": null,
            "top": null,
            "visibility": null,
            "width": null
          }
        },
        "c78c31b2a2c547ecad15dd1c3ee995fc": {
          "model_module": "@jupyter-widgets/controls",
          "model_module_version": "1.5.0",
          "model_name": "HTMLModel",
          "state": {
            "_dom_classes": [],
            "_model_module": "@jupyter-widgets/controls",
            "_model_module_version": "1.5.0",
            "_model_name": "HTMLModel",
            "_view_count": null,
            "_view_module": "@jupyter-widgets/controls",
            "_view_module_version": "1.5.0",
            "_view_name": "HTMLView",
            "description": "",
            "description_tooltip": null,
            "layout": "IPY_MODEL_4493e9ce56594322babeeaa8b6e0a1e9",
            "placeholder": "​",
            "style": "IPY_MODEL_f04026c98d5b45a49f747868390dcd48",
            "value": "100%"
          }
        },
        "e5cbc647d9ee4b778ff1e9d77639d529": {
          "model_module": "@jupyter-widgets/base",
          "model_module_version": "1.2.0",
          "model_name": "LayoutModel",
          "state": {
            "_model_module": "@jupyter-widgets/base",
            "_model_module_version": "1.2.0",
            "_model_name": "LayoutModel",
            "_view_count": null,
            "_view_module": "@jupyter-widgets/base",
            "_view_module_version": "1.2.0",
            "_view_name": "LayoutView",
            "align_content": null,
            "align_items": null,
            "align_self": null,
            "border": null,
            "bottom": null,
            "display": null,
            "flex": null,
            "flex_flow": null,
            "grid_area": null,
            "grid_auto_columns": null,
            "grid_auto_flow": null,
            "grid_auto_rows": null,
            "grid_column": null,
            "grid_gap": null,
            "grid_row": null,
            "grid_template_areas": null,
            "grid_template_columns": null,
            "grid_template_rows": null,
            "height": null,
            "justify_content": null,
            "justify_items": null,
            "left": null,
            "margin": null,
            "max_height": null,
            "max_width": null,
            "min_height": null,
            "min_width": null,
            "object_fit": null,
            "object_position": null,
            "order": null,
            "overflow": null,
            "overflow_x": null,
            "overflow_y": null,
            "padding": null,
            "right": null,
            "top": null,
            "visibility": null,
            "width": null
          }
        },
        "f04026c98d5b45a49f747868390dcd48": {
          "model_module": "@jupyter-widgets/controls",
          "model_module_version": "1.5.0",
          "model_name": "DescriptionStyleModel",
          "state": {
            "_model_module": "@jupyter-widgets/controls",
            "_model_module_version": "1.5.0",
            "_model_name": "DescriptionStyleModel",
            "_view_count": null,
            "_view_module": "@jupyter-widgets/base",
            "_view_module_version": "1.2.0",
            "_view_name": "StyleView",
            "description_width": ""
          }
        }
      }
    }
  },
  "nbformat": 4,
  "nbformat_minor": 0
}
